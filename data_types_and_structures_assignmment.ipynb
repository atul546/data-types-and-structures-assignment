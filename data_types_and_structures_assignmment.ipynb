{
  "nbformat": 4,
  "nbformat_minor": 0,
  "metadata": {
    "colab": {
      "provenance": []
    },
    "kernelspec": {
      "name": "python3",
      "display_name": "Python 3"
    },
    "language_info": {
      "name": "python"
    }
  },
  "cells": [
    {
      "cell_type": "markdown",
      "source": [
        "## data types and structure"
      ],
      "metadata": {
        "id": "Mvxt_-w5PsPX"
      }
    },
    {
      "cell_type": "code",
      "source": [
        "# Q1- What are data structures, and why are they important?\n",
        "ans = . In Python, data structures refer to the ways in which data is organized, stored, and manipulated in a program. These structures are implemented through built-in Python collections or can be defined using custom classes. Why They Are Important?\n",
        "      . Different data structures optimize specific operations. Python's built-in data structures are optimized for common tasks like searching, inserting, deleting, and iterating over data\n",
        "      . Python’s built-in data structures are optimized for memory usage, allowing for efficient storage and retrieval of data\n",
        "      . Data structures allow Python developers to solve real-world problems efficiently.\n",
        "\n",
        "# Q2- Explain the difference between mutable and immutable data types with examples\n",
        "# ans = 1. Mutable Data Types- A mutable data type is one where the value or contents of the object can be changed after the object has been created. In other words, mutable objects can be modified in place\n",
        "       2. Some of the mutable data types in python are- lists,dictionaries,sets, etc.\n",
        "\n",
        ""
      ],
      "metadata": {
        "id": "aD1wkacZfC8u"
      },
      "execution_count": null,
      "outputs": []
    },
    {
      "cell_type": "code",
      "source": [
        " # example of mutable data type\n",
        "       # list mutable\n",
        "my_list = [1,2,3]\n",
        "print(my_list)\n",
        "\n",
        "# modify list\n",
        "my_list.append(4)\n",
        "my_list[0] = 10\n",
        "print(my_list)\n"
      ],
      "metadata": {
        "colab": {
          "base_uri": "https://localhost:8080/"
        },
        "id": "Cgg3yLNNgdCU",
        "outputId": "baa3863f-ae05-47e0-ff18-d63de94fe87f"
      },
      "execution_count": 9,
      "outputs": [
        {
          "output_type": "stream",
          "name": "stdout",
          "text": [
            "[1, 2, 3]\n",
            "[10, 2, 3, 4]\n"
          ]
        }
      ]
    },
    {
      "cell_type": "markdown",
      "source": [
        "\n",
        "\n",
        "3.Immutable Data Types- An immutable data type is one where the value or contents cannot be changed once the object is created. If you attempt to modify the value, a new object is created instead of modifying the original.\n",
        "4.Some of the immutable data types in python are- tuples, integer, strings, etc.m\n",
        "\n"
      ],
      "metadata": {
        "id": "rgsI6Ac8iWIr"
      }
    },
    {
      "cell_type": "code",
      "source": [
        "# Tuples (immutable)\n",
        "my_tuple = (1, 2, 3)\n",
        "print(my_tuple)  # Output: (1, 2, 3)\n",
        "my_tuple[0] = 10"
      ],
      "metadata": {
        "colab": {
          "base_uri": "https://localhost:8080/",
          "height": 193
        },
        "id": "GfDPvwxRil1P",
        "outputId": "82b586c2-93ce-485c-f898-72cdf1c91f03"
      },
      "execution_count": 10,
      "outputs": [
        {
          "output_type": "stream",
          "name": "stdout",
          "text": [
            "(1, 2, 3)\n"
          ]
        },
        {
          "output_type": "error",
          "ename": "TypeError",
          "evalue": "'tuple' object does not support item assignment",
          "traceback": [
            "\u001b[0;31m---------------------------------------------------------------------------\u001b[0m",
            "\u001b[0;31mTypeError\u001b[0m                                 Traceback (most recent call last)",
            "\u001b[0;32m<ipython-input-10-883f8b4e88a2>\u001b[0m in \u001b[0;36m<cell line: 4>\u001b[0;34m()\u001b[0m\n\u001b[1;32m      2\u001b[0m \u001b[0mmy_tuple\u001b[0m \u001b[0;34m=\u001b[0m \u001b[0;34m(\u001b[0m\u001b[0;36m1\u001b[0m\u001b[0;34m,\u001b[0m \u001b[0;36m2\u001b[0m\u001b[0;34m,\u001b[0m \u001b[0;36m3\u001b[0m\u001b[0;34m)\u001b[0m\u001b[0;34m\u001b[0m\u001b[0;34m\u001b[0m\u001b[0m\n\u001b[1;32m      3\u001b[0m \u001b[0mprint\u001b[0m\u001b[0;34m(\u001b[0m\u001b[0mmy_tuple\u001b[0m\u001b[0;34m)\u001b[0m  \u001b[0;31m# Output: (1, 2, 3)\u001b[0m\u001b[0;34m\u001b[0m\u001b[0;34m\u001b[0m\u001b[0m\n\u001b[0;32m----> 4\u001b[0;31m \u001b[0mmy_tuple\u001b[0m\u001b[0;34m[\u001b[0m\u001b[0;36m0\u001b[0m\u001b[0;34m]\u001b[0m \u001b[0;34m=\u001b[0m \u001b[0;36m10\u001b[0m\u001b[0;34m\u001b[0m\u001b[0;34m\u001b[0m\u001b[0m\n\u001b[0m",
            "\u001b[0;31mTypeError\u001b[0m: 'tuple' object does not support item assignment"
          ]
        }
      ]
    },
    {
      "cell_type": "markdown",
      "source": [
        "\n",
        "Q3- What are the main differences between lists and tuples in Python?\n",
        "\n",
        "ans = 1. lists are mutable and suitable for data that may change.\n",
        "      2. .Tuples are immutable and efficient for fixed collections of data.\n",
        "       example given below\n",
        "\n",
        "\n"
      ],
      "metadata": {
        "id": "eBtuIK9kiwDV"
      }
    },
    {
      "cell_type": "code",
      "source": [
        "#example of mutable data types-\n",
        "# Lists (mutable)\n",
        "my_list = [1, 2, 3]\n",
        "print(my_list)\n",
        "\n",
        "# Modify list\n",
        "my_list.append(4)\n",
        "my_list[0] = 10\n",
        "print(my_list)\n"
      ],
      "metadata": {
        "colab": {
          "base_uri": "https://localhost:8080/"
        },
        "id": "7KY3cP8GjOiH",
        "outputId": "a3c74fcf-e484-48a1-a1eb-f88f42208bfe"
      },
      "execution_count": 11,
      "outputs": [
        {
          "output_type": "stream",
          "name": "stdout",
          "text": [
            "[1, 2, 3]\n",
            "[10, 2, 3, 4]\n"
          ]
        }
      ]
    },
    {
      "cell_type": "code",
      "source": [
        "#example of immutable data types-\n",
        "# Tuples (immutable)\n",
        "my_tuple = (1, 2, 3)\n",
        "print(my_tuple)  # Output: (1, 2, 3)\n",
        "my_tuple[0] = 10"
      ],
      "metadata": {
        "colab": {
          "base_uri": "https://localhost:8080/",
          "height": 193
        },
        "id": "Iz446mFZjYuT",
        "outputId": "d6629309-270d-446a-a309-4159057a94ea"
      },
      "execution_count": 12,
      "outputs": [
        {
          "output_type": "stream",
          "name": "stdout",
          "text": [
            "(1, 2, 3)\n"
          ]
        },
        {
          "output_type": "error",
          "ename": "TypeError",
          "evalue": "'tuple' object does not support item assignment",
          "traceback": [
            "\u001b[0;31m---------------------------------------------------------------------------\u001b[0m",
            "\u001b[0;31mTypeError\u001b[0m                                 Traceback (most recent call last)",
            "\u001b[0;32m<ipython-input-12-bf0c726c50ec>\u001b[0m in \u001b[0;36m<cell line: 5>\u001b[0;34m()\u001b[0m\n\u001b[1;32m      3\u001b[0m \u001b[0mmy_tuple\u001b[0m \u001b[0;34m=\u001b[0m \u001b[0;34m(\u001b[0m\u001b[0;36m1\u001b[0m\u001b[0;34m,\u001b[0m \u001b[0;36m2\u001b[0m\u001b[0;34m,\u001b[0m \u001b[0;36m3\u001b[0m\u001b[0;34m)\u001b[0m\u001b[0;34m\u001b[0m\u001b[0;34m\u001b[0m\u001b[0m\n\u001b[1;32m      4\u001b[0m \u001b[0mprint\u001b[0m\u001b[0;34m(\u001b[0m\u001b[0mmy_tuple\u001b[0m\u001b[0;34m)\u001b[0m  \u001b[0;31m# Output: (1, 2, 3)\u001b[0m\u001b[0;34m\u001b[0m\u001b[0;34m\u001b[0m\u001b[0m\n\u001b[0;32m----> 5\u001b[0;31m \u001b[0mmy_tuple\u001b[0m\u001b[0;34m[\u001b[0m\u001b[0;36m0\u001b[0m\u001b[0;34m]\u001b[0m \u001b[0;34m=\u001b[0m \u001b[0;36m10\u001b[0m\u001b[0;34m\u001b[0m\u001b[0;34m\u001b[0m\u001b[0m\n\u001b[0m",
            "\u001b[0;31mTypeError\u001b[0m: 'tuple' object does not support item assignment"
          ]
        }
      ]
    },
    {
      "cell_type": "markdown",
      "source": [
        "Q4- Describe how dictionaries store data.\n",
        "\n",
        "ans = .Python dictionaries are unordered collections of key-value pairs, where each key is unique and maps to a specific value. They are implemented using a hash table internally, which allows for fast lookups, insertions, and deletions.\n",
        "\n",
        "***example***\n",
        "\n",
        "my_dict = {'name': 'Alice', 'age': 25}\n",
        "\n",
        "Key: 'name', Value: 'Alice'\n",
        "\n",
        "Key: 'age', Value: 25\n"
      ],
      "metadata": {
        "id": "KC9DlFmnjqZU"
      }
    },
    {
      "cell_type": "markdown",
      "source": [
        "Q5- Why might you use a set instead of a list in Python?\n",
        "\n",
        "ans = Uniqueness: When you need to ensure that elements are unique.\n",
        "\n",
        ". Performance: When you need fast membership testing or set operations (union, intersection, etc.).\n",
        "\n",
        ". Set operations: When you need efficient mathematical operations like union, intersection, or difference.\n",
        "\n",
        ". Unordered collections: When the order of elements does not matter."
      ],
      "metadata": {
        "id": "t-DWeoQJkXxu"
      }
    },
    {
      "cell_type": "markdown",
      "source": [
        "\n",
        "Q6- What is a string in Python, and how is it different from a list?\n",
        "\n",
        "ans = . In Python, a string is a sequence of characters enclosed in either single quotes (') or double quotes (\"). Strings are a built-in data type used to store text data, and they are immutable, meaning that their contents cannot be changed after they are created.\n",
        "\n",
        ". A list is an ordered collection of items, which can be of any data type (including numbers, strings, or other lists). Lists are mutable, meaning you can change, add, or remove elements after the list is created.\n",
        "\n",
        ". The key difference between them is that a string is immutable but a list is mutable."
      ],
      "metadata": {
        "id": "wjOosizFk9Y9"
      }
    },
    {
      "cell_type": "markdown",
      "source": [
        " Q7- How do tuples ensure data integrity in Python?\n",
        "\n",
        " ans = Tuples ensure data integrity in Python by being immutable—once created, their contents cannot be changed. This prevents accidental modifications, guarantees consistent data, and allows tuples to be safely used as dictionary keys or set elements. Their immutability also helps maintain data integrity in multi-threaded environments, as the data can't be altered unexpectedly.\n"
      ],
      "metadata": {
        "id": "-NOL-66klSQK"
      }
    },
    {
      "cell_type": "markdown",
      "source": [
        "Q8- What is a hash table, and how does it relate to dictionaries in Python?\n",
        "\n",
        "ans = . A hash table is a data structure that stores key-value pairs, using a hash function to map keys to specific indices for fast lookups.\n",
        "\n",
        "   . Python dictionaries (dict) are implemented as hash tables, where the keys are hashed, and values are stored at the computed index, allowing efficient operations like insertion, deletion, and lookup (usually O(1) time)"
      ],
      "metadata": {
        "id": "6y6DyCXHlcLO"
      }
    },
    {
      "cell_type": "markdown",
      "source": [
        "Q9- Can lists contain different data types in Python?\n",
        " ans = Yes, a Python list can contain different data types. It is heterogeneous, meaning it can store elements of various types, such as integers, strings, floats, and booleans, in the same list.\n"
      ],
      "metadata": {
        "id": "pVFMDdfzlmxC"
      }
    },
    {
      "cell_type": "markdown",
      "source": [
        "Q10- Explain why strings are immutable in Python.\n",
        "\n",
        " ans = Strings in Python are immutable because their content cannot be changed after creation. This ensures better performance, memory efficiency, and data consistency. It also allows strings to be hashable, enabling their use as dictionary keys or set elements."
      ],
      "metadata": {
        "id": "vWVYxfDjluZq"
      }
    },
    {
      "cell_type": "markdown",
      "source": [
        "Q11- What advantages do dictionaries offer over lists for certain tasks?\n",
        "\n",
        "ans = . Dictionaries offer advantages over lists for tasks that require fast lookups (O(1) time), key-value pairing, and ensuring unique keys. They are more efficient for tasks involving quick access by key, like storing user profiles or settings, while lists are better suited for maintaining ordered collections.\n",
        "\n",
        ". Example Use Case:\n",
        "\n",
        ". Dictionaries: Store user profiles, settings, or configurations where fast access by a unique key (e.g., user ID, setting name) is needed.\n",
        "\n",
        ". Lists: Best suited for ordered collections or tasks where you need to maintain the order of elements\n",
        "\n",
        ". In summary, dictionaries are more efficient for tasks that require fast lookups, key-value associations, and uniqueness, while lists are better for maintaining ordered collections.\n"
      ],
      "metadata": {
        "id": "SXeFZZ8Nl5Fh"
      }
    },
    {
      "cell_type": "markdown",
      "source": [
        "Q12- How do sets handle duplicate values in Python?\n",
        "\n",
        "ans = In Python, sets automatically remove duplicate values. A set is an unordered collection of unique elements, meaning that if you try to add a duplicate value, it will be ignored.\n",
        "\n",
        "\n",
        "In Python, sets automatically remove duplicate values. A set is an unordered collection of unique elements, meaning that if you try to add a duplicate value, it will be ignored.\n",
        "\n",
        "Example:\n",
        "\n",
        "my_set = {1, 2, 3, 3, 4, 5, 5}\n",
        "\n",
        "print(my_set)\n",
        "\n",
        "Output:\n",
        "\n",
        "{1, 2, 3, 4, 5}\n",
        "\n",
        "In this example, the duplicates 3 and 5 are removed when the set is created. Sets ensure that only one instance of each value is stored.\n",
        "\n",
        "\n",
        "\n",
        "\n",
        "\n",
        "\n"
      ],
      "metadata": {
        "id": "yBbON_acmPoM"
      }
    },
    {
      "cell_type": "markdown",
      "source": [
        "Q13- Describe a scenario where using a tuple would be preferable over a list.\n",
        "\n",
        "ans = . A tuple would be preferable over a list in scenarios where you need immutable data or when the data should remain unchanged throughout the program. Specifically:\n",
        "\n",
        ". Scenario: Storing fixed configuration values or coordinates Imagine you are working with a set of geographical coordinates (latitude, longitude, altitude) or a configuration setting that should not change once set.\n",
        "\n",
        ". In this case, a tuple is ideal because:\n",
        "\n",
        ". The coordinates represent fixed, unchanging data. The tuple’s immutability prevents accidental modification, which could lead to errors or inconsistent behavior. Why not a list?\n",
        "\n",
        ".If a list were used, the coordinates could be modified (e.g., accidentally changing the longitude), which is undesirable in this context.\n",
        "\n",
        "\n"
      ],
      "metadata": {
        "id": "lU0SysTrnhEe"
      }
    },
    {
      "cell_type": "markdown",
      "source": [
        "Q14- How does the “in” keyword work differently for lists and dictionaries?\n",
        "\n",
        "ans . The in keyword works differently for lists and dictionaries in Python\n",
        "   \n",
        "   . For lists: It checks if a value exists in the list.\n",
        "\n",
        "   . Example: 3 in [1, 2, 3, 4] returns True, because 3 is an element in the list\n",
        "\n",
        "   .For dictionaries: It checks if a key exists in the dictionary, not the value.\n",
        "\n",
        "   . Example: 'name' in {'name': 'Alice', 'age': 30} returns True, because 'name' is a key in the dictionary"
      ],
      "metadata": {
        "id": "9isfMYAoofHv"
      }
    },
    {
      "cell_type": "markdown",
      "source": [
        "Q15- Can you modify the elements of a tuple? Explain why or why not?\n",
        "\n",
        "ans = .  No, you cannot modify the elements of a tuple in Python because tuples are immutable. Once a tuple is created, its elements cannot be changed, added, or removed. Why not?\n",
        "\n",
        "\n",
        "  . mmutability: The primary reason is that tuples are designed to be immutable to ensure data integrity. This means that once the tuple is created, its structure and contents are fixed and cannot be altered, which prevents accidental modifications.\n"
      ],
      "metadata": {
        "id": "cCqFLGGbpksV"
      }
    },
    {
      "cell_type": "markdown",
      "source": [
        "Q16- What is a nested dictionary, and give an example of its use case.\n",
        "\n",
        "ans = . A nested dictionary is a dictionary where the values are themselves dictionaries. This allows you to represent more complex, hierarchical data structures.\n",
        "\n",
        "   Use Case:\n",
        "\n",
        "   .  A common use case for a nested dictionary is representing data that naturally fits into a hierarchical structure, such as a school database or employee records.\n",
        "\n",
        "\n",
        "   Example:Accessing data from a nested dictionary:\n",
        "\n",
        "  Get Bob's major print(students[\"Bob\"][\"major\"]) # Output: Math\n",
        "\n",
        "  Get Alice's age print(students[\"Alice\"][\"age\"]) # Output: 22\n",
        "\n"
      ],
      "metadata": {
        "id": "Il8LcpK3p176"
      }
    },
    {
      "cell_type": "markdown",
      "source": [
        "Q17- Describe the time complexity of accessing elements in a dictionary.\n",
        "\n",
        "ans = .The time complexity of accessing elements in a Python dictionary is O(1) on average, thanks to hashing. This means retrieving a value by its key is done in constant time. In rare cases, it can degrade to O(n) due to hash collisions."
      ],
      "metadata": {
        "id": "u_tBeOf2qYIs"
      }
    },
    {
      "cell_type": "markdown",
      "source": [
        "Q18- In what situations are lists preferred over dictionaries?\n",
        "\n",
        "ans = Lists are preferred over dictionaries in the following situations:\n",
        "\n",
        ". Maintaining Order: When the order of elements matters, as lists are ordered collections while dictionaries (prior to Python 3.7) are unordered.\n",
        "\n",
        ". Index-Based Access: When you need to access elements by position/index rather than by key, as lists use numerical indices for access."
      ],
      "metadata": {
        "id": "IYfPD-zKrggI"
      }
    },
    {
      "cell_type": "markdown",
      "source": [
        "Q19- Why are dictionaries considered unordered, and how does that affect data retrieval?\n",
        "\n",
        " ans =  . Dictionaries in Python were unordered before version 3.7 due to their hash table implementation, meaning the order of items was not guaranteed. Starting with Python 3.7, dictionaries preserve insertion order, but data is still retrieved by key, and retrieval remains efficient (O(1)average).\n",
        "\n",
        "\n",
        "Effect on Data Retrieval:\n",
        "\n",
        "\n",
        "Pre-3.7 (Unordered): You cannot rely on the order of elements in a dictionary when retrieving data, as the order is not guaranteed.\n",
        "\n",
        "\n",
        "my_dict = {\"a\": 1, \"b\": 2, \"c\": 3}\n",
        "\n",
        " Order of keys might not be the same as insertion\n",
        "\n",
        "Post-3.7 (Ordered): The insertion order is preserved, but this does not affect how you retrieve data. You still access data by key, and retrieval is efficient (O(1) on average), but now the order of elements is predictable.\n",
        "\n",
        "\n",
        "my_dict = {\"a\": 1, \"b\": 2, \"c\": 3}\n"
      ],
      "metadata": {
        "id": "br3v0SuTsca3"
      }
    },
    {
      "cell_type": "markdown",
      "source": [
        "# Data Types and Structures Practical Questions"
      ],
      "metadata": {
        "id": "sFej17xQtNm1"
      }
    },
    {
      "cell_type": "code",
      "source": [
        "# Q .1.Write a code to create a string with your name and print it.\n",
        "\n",
        "my_name = \"atul kumar\"\n",
        "print(my_name)"
      ],
      "metadata": {
        "colab": {
          "base_uri": "https://localhost:8080/"
        },
        "id": "oSv07YCJtS05",
        "outputId": "80bbb5e4-6d23-4507-b921-64663897a211"
      },
      "execution_count": 18,
      "outputs": [
        {
          "output_type": "stream",
          "name": "stdout",
          "text": [
            "atul kumar\n"
          ]
        }
      ]
    },
    {
      "cell_type": "code",
      "source": [
        "# Q2- Write a code to find the length of the string \"Hello World\".\n",
        "\n",
        "abc =\"hello world\"\n",
        "len(abc)"
      ],
      "metadata": {
        "colab": {
          "base_uri": "https://localhost:8080/"
        },
        "id": "Qy-jGUxOzB6G",
        "outputId": "4019450c-2a84-45cc-bc1a-ccd49af2edf6"
      },
      "execution_count": 19,
      "outputs": [
        {
          "output_type": "execute_result",
          "data": {
            "text/plain": [
              "11"
            ]
          },
          "metadata": {},
          "execution_count": 19
        }
      ]
    },
    {
      "cell_type": "code",
      "source": [
        "# Q 3.Write a code to slice the first 3 characters from the string \"Python Programming\".\n",
        "\n",
        "text = \"python programming\"\n",
        "sliced_text = text[:3]\n",
        "print(sliced_text)\n",
        ""
      ],
      "metadata": {
        "colab": {
          "base_uri": "https://localhost:8080/"
        },
        "id": "djF8F7UfzcOi",
        "outputId": "2f5350eb-6645-4907-e994-820c7357f385"
      },
      "execution_count": 21,
      "outputs": [
        {
          "output_type": "stream",
          "name": "stdout",
          "text": [
            "pyt\n"
          ]
        }
      ]
    },
    {
      "cell_type": "code",
      "source": [
        "# Q 4.Write a code to convert the string \"hello\" to uppercase.\n",
        "\n",
        "text = (\"hello world\")\n",
        "text.upper()"
      ],
      "metadata": {
        "colab": {
          "base_uri": "https://localhost:8080/",
          "height": 36
        },
        "id": "4oneKgqZzqnG",
        "outputId": "3689f7c4-2296-45d4-e8d4-3f4297a6f1db"
      },
      "execution_count": 22,
      "outputs": [
        {
          "output_type": "execute_result",
          "data": {
            "text/plain": [
              "'HELLO WORLD'"
            ],
            "application/vnd.google.colaboratory.intrinsic+json": {
              "type": "string"
            }
          },
          "metadata": {},
          "execution_count": 22
        }
      ]
    },
    {
      "cell_type": "code",
      "source": [
        "# Q 5.Write a code to replace the word \"apple\" with \"orange\" in the string \"I like apple\".\n",
        "\n",
        "text = (\"i like apple\")\n",
        "text.replace(\"apple\", \"orange\")"
      ],
      "metadata": {
        "colab": {
          "base_uri": "https://localhost:8080/",
          "height": 36
        },
        "id": "657sofeOz4El",
        "outputId": "ad9ed437-a94c-4ce9-f53a-70c3cce7ea8b"
      },
      "execution_count": 23,
      "outputs": [
        {
          "output_type": "execute_result",
          "data": {
            "text/plain": [
              "'i like orange'"
            ],
            "application/vnd.google.colaboratory.intrinsic+json": {
              "type": "string"
            }
          },
          "metadata": {},
          "execution_count": 23
        }
      ]
    },
    {
      "cell_type": "code",
      "source": [
        "# Q 6.Write a code to create a list with numbers 1 to 5 and print it\n",
        "\n",
        "list_1 = [1,2,3,4,5]\n",
        "print(list_1)"
      ],
      "metadata": {
        "colab": {
          "base_uri": "https://localhost:8080/"
        },
        "id": "vxbBiPu_0C31",
        "outputId": "fe2856aa-f9c4-4cfd-e089-26cd10a1db65"
      },
      "execution_count": 24,
      "outputs": [
        {
          "output_type": "stream",
          "name": "stdout",
          "text": [
            "[1, 2, 3, 4, 5]\n"
          ]
        }
      ]
    },
    {
      "cell_type": "code",
      "source": [
        "# Q 7.Write a code to append the number 10 to the list [1, 2, 3, 4].\n",
        "\n",
        "list_1 = [1,2,3,4]\n",
        "list_1.append(10)\n",
        "print(list_1)"
      ],
      "metadata": {
        "colab": {
          "base_uri": "https://localhost:8080/"
        },
        "id": "O33ORHyz0OIM",
        "outputId": "87947f88-4952-468c-e103-debeda0f6da7"
      },
      "execution_count": 25,
      "outputs": [
        {
          "output_type": "stream",
          "name": "stdout",
          "text": [
            "[1, 2, 3, 4, 10]\n"
          ]
        }
      ]
    },
    {
      "cell_type": "code",
      "source": [
        "# Q 8.Write a code to remove the number 3 from the list [1, 2, 3, 4, 5].\n",
        "\n",
        "list_1 = [1,2,3,4,5]\n",
        "list_1.remove(3)\n",
        "print(list_1)"
      ],
      "metadata": {
        "colab": {
          "base_uri": "https://localhost:8080/"
        },
        "id": "l1JDL0WY0VDY",
        "outputId": "5f008907-0d1a-4092-e469-1f6d495f97dd"
      },
      "execution_count": 27,
      "outputs": [
        {
          "output_type": "stream",
          "name": "stdout",
          "text": [
            "[1, 2, 4, 5]\n"
          ]
        }
      ]
    },
    {
      "cell_type": "code",
      "source": [
        "# Q 9.Write a code to access the second element in the list ['a', 'b', 'c', 'd'].\n",
        "\n",
        "list_1 = [10, 20, 30, 40, 50]\n",
        "list_1.reverse()\n",
        "print(list_1)"
      ],
      "metadata": {
        "colab": {
          "base_uri": "https://localhost:8080/"
        },
        "id": "xSpFs6xn0ihU",
        "outputId": "e1d2025a-4b14-487d-8cd2-5cc2a5776176"
      },
      "execution_count": 28,
      "outputs": [
        {
          "output_type": "stream",
          "name": "stdout",
          "text": [
            "[50, 40, 30, 20, 10]\n"
          ]
        }
      ]
    },
    {
      "cell_type": "code",
      "source": [
        "# Q 11.Write a code to create a tuple with the elements 10, 20, 30 and print it\n",
        "\n",
        "tuple_1 = (10,20,30)\n",
        "print(tuple_1)"
      ],
      "metadata": {
        "colab": {
          "base_uri": "https://localhost:8080/"
        },
        "id": "Y5vsMSyG0qdG",
        "outputId": "9ceac17c-f278-4322-a0b4-6255e0a74f55"
      },
      "execution_count": 29,
      "outputs": [
        {
          "output_type": "stream",
          "name": "stdout",
          "text": [
            "(10, 20, 30)\n"
          ]
        }
      ]
    },
    {
      "cell_type": "code",
      "source": [
        "# Q 12.Write a code to access the first element of the tuple ('apple', 'banana', 'cherry').\n",
        "\n",
        "tuple_1 = (\"apple\", \"banana\", \"cherry\")\n",
        "print(tuple_1[0])\n"
      ],
      "metadata": {
        "colab": {
          "base_uri": "https://localhost:8080/"
        },
        "id": "6av6kJyi0yYg",
        "outputId": "7665fced-f300-4161-9a90-e801cd8d9447"
      },
      "execution_count": 30,
      "outputs": [
        {
          "output_type": "stream",
          "name": "stdout",
          "text": [
            "apple\n"
          ]
        }
      ]
    },
    {
      "cell_type": "code",
      "source": [
        "# Q 13.Write a code to count how many times the number 2 appears in the tuple (1, 2, 3, 2, 4, 2).\n",
        "\n",
        "tuple_1 = (1,2,3,2,4,2)\n",
        "tuple_1.count(2)"
      ],
      "metadata": {
        "colab": {
          "base_uri": "https://localhost:8080/"
        },
        "id": "tV2u5scb0-n-",
        "outputId": "2c91fd0b-b406-448a-d2d6-9f083d4da1d3"
      },
      "execution_count": 31,
      "outputs": [
        {
          "output_type": "execute_result",
          "data": {
            "text/plain": [
              "3"
            ]
          },
          "metadata": {},
          "execution_count": 31
        }
      ]
    },
    {
      "cell_type": "code",
      "source": [
        "# Q 14. Write a code to find the index of the element \"cat\" in the tuple ('dog', 'cat', 'rabbit').\n",
        "\n",
        "tuple_1= ('dog', 'cat', 'rabbit')\n",
        "tuple_1.index(\"cat\")\n",
        ""
      ],
      "metadata": {
        "colab": {
          "base_uri": "https://localhost:8080/"
        },
        "id": "y-qpk3hP1JdE",
        "outputId": "b9b32c27-d798-4529-9c12-35c0d7a874ea"
      },
      "execution_count": 32,
      "outputs": [
        {
          "output_type": "execute_result",
          "data": {
            "text/plain": [
              "1"
            ]
          },
          "metadata": {},
          "execution_count": 32
        }
      ]
    },
    {
      "cell_type": "code",
      "source": [
        "# Q 15.Write a code to check if the element \"banana\" is in the tuple ('apple', 'orange', 'banana').\n",
        "\n",
        "tuple_1= ('apple', 'orange', 'banana')\n",
        "(\"banana\") in tuple_1\n",
        ""
      ],
      "metadata": {
        "colab": {
          "base_uri": "https://localhost:8080/"
        },
        "id": "s798z7xW1RS3",
        "outputId": "b2adc14f-f552-41a6-c087-4b3c89facae5"
      },
      "execution_count": 33,
      "outputs": [
        {
          "output_type": "execute_result",
          "data": {
            "text/plain": [
              "True"
            ]
          },
          "metadata": {},
          "execution_count": 33
        }
      ]
    },
    {
      "cell_type": "code",
      "source": [
        "# Q 16.Write a code to create a set with the elements 1, 2, 3, 4, 5 and print it.\n",
        "\n",
        "set_1 = {1,2,3,4,5}\n",
        "print(set_1)\n"
      ],
      "metadata": {
        "colab": {
          "base_uri": "https://localhost:8080/"
        },
        "id": "ddWEmKGG1X_L",
        "outputId": "ff812c24-882d-4dc7-fcf8-97a30d66a527"
      },
      "execution_count": 34,
      "outputs": [
        {
          "output_type": "stream",
          "name": "stdout",
          "text": [
            "{1, 2, 3, 4, 5}\n"
          ]
        }
      ]
    },
    {
      "cell_type": "code",
      "source": [
        "# Q 17.Write a code to add the element 6 to the set {1, 2, 3, 4}.\n",
        "\n",
        "set_1 = {1,2,3,4}\n",
        "set_1.add(6)\n",
        "print (set_1)"
      ],
      "metadata": {
        "colab": {
          "base_uri": "https://localhost:8080/"
        },
        "id": "pwiLW0x61h4z",
        "outputId": "a4fd0132-2ec0-4abd-cc97-87374a772e54"
      },
      "execution_count": 35,
      "outputs": [
        {
          "output_type": "stream",
          "name": "stdout",
          "text": [
            "{1, 2, 3, 4, 6}\n"
          ]
        }
      ]
    },
    {
      "cell_type": "code",
      "source": [
        "# Q 18. Write a code to create a tuple with the elements 10, 20, 30 and print it.\n",
        "\n",
        "tuple_1 = (10,20,30)\n",
        "print(tuple_1)\n",
        ""
      ],
      "metadata": {
        "colab": {
          "base_uri": "https://localhost:8080/"
        },
        "id": "j7B6sUbH1riD",
        "outputId": "6c114438-df34-4463-b4a5-e05f805709b6"
      },
      "execution_count": 36,
      "outputs": [
        {
          "output_type": "stream",
          "name": "stdout",
          "text": [
            "(10, 20, 30)\n"
          ]
        }
      ]
    },
    {
      "cell_type": "code",
      "source": [
        "# Q 19. Write a code to access the first element of the tuple ('apple', 'banana', 'cherry').\n",
        "\n",
        "tuple_1 = (\"apple\", \"banana\", \"cherry\")\n",
        "print(tuple_1[0])\n",
        ""
      ],
      "metadata": {
        "colab": {
          "base_uri": "https://localhost:8080/"
        },
        "id": "A955RAKD1xpK",
        "outputId": "1385b1a3-2b37-4b50-96cb-0377c50ec8ce"
      },
      "execution_count": 37,
      "outputs": [
        {
          "output_type": "stream",
          "name": "stdout",
          "text": [
            "apple\n"
          ]
        }
      ]
    },
    {
      "cell_type": "code",
      "source": [
        "# Q 20. Write a code to count how many times the number 2 appears in the tuple (1, 2, 3, 2, 4, 2).\n",
        "\n",
        "tuple_1 = (1,2,3,2,4,2)\n",
        "tuple_1.count(2)"
      ],
      "metadata": {
        "colab": {
          "base_uri": "https://localhost:8080/"
        },
        "id": "jAClqiYQ16_D",
        "outputId": "9ca9f1fc-fcfe-4bdd-81be-6aa429760b7d"
      },
      "execution_count": 38,
      "outputs": [
        {
          "output_type": "execute_result",
          "data": {
            "text/plain": [
              "3"
            ]
          },
          "metadata": {},
          "execution_count": 38
        }
      ]
    },
    {
      "cell_type": "code",
      "source": [
        "# Q 21. Write a code to find the index of the element \"cat\" in the tuple ('dog', 'cat', 'rabbit').\n",
        "\n",
        "tuple_1= ('dog', 'cat', 'rabbit')\n",
        "tuple_1.index(\"cat\")"
      ],
      "metadata": {
        "colab": {
          "base_uri": "https://localhost:8080/"
        },
        "id": "k3RvgxoT2BRN",
        "outputId": "ea4fa96e-f591-4485-8554-3a384e9033d8"
      },
      "execution_count": 39,
      "outputs": [
        {
          "output_type": "execute_result",
          "data": {
            "text/plain": [
              "1"
            ]
          },
          "metadata": {},
          "execution_count": 39
        }
      ]
    },
    {
      "cell_type": "code",
      "source": [
        "# Q 22.Write a code to check if the element \"banana\" is in the tuple ('apple', 'orange', 'banana').\n",
        "\n",
        "tuple_1= ('apple', 'orange', 'banana')\n",
        "(\"banana\") in tuple_1"
      ],
      "metadata": {
        "colab": {
          "base_uri": "https://localhost:8080/"
        },
        "id": "BXuAZ8tg2J4q",
        "outputId": "52350e78-4f27-47c0-c48e-8bdd7b1115b0"
      },
      "execution_count": 40,
      "outputs": [
        {
          "output_type": "execute_result",
          "data": {
            "text/plain": [
              "True"
            ]
          },
          "metadata": {},
          "execution_count": 40
        }
      ]
    },
    {
      "cell_type": "code",
      "source": [
        "# Q 23.Write a code to create a set with the elements 1, 2, 3, 4, 5 and print it.\n",
        "\n",
        "set_1 = {1,2,3,4,5}\n",
        "print(set_1)"
      ],
      "metadata": {
        "colab": {
          "base_uri": "https://localhost:8080/"
        },
        "id": "kzl5UNdW2QpN",
        "outputId": "6e5f30de-0ff4-4882-9c1e-4948778da59c"
      },
      "execution_count": 41,
      "outputs": [
        {
          "output_type": "stream",
          "name": "stdout",
          "text": [
            "{1, 2, 3, 4, 5}\n"
          ]
        }
      ]
    },
    {
      "cell_type": "code",
      "source": [
        "# Q 24.Write a code to add the element 6 to the set {1, 2, 3, 4}.\n",
        "\n",
        "set_1 = {1,2,3,4}\n",
        "set_1.add(6)\n",
        "print (set_1)\n",
        ""
      ],
      "metadata": {
        "colab": {
          "base_uri": "https://localhost:8080/"
        },
        "id": "Y1sn2Vsn2WpR",
        "outputId": "f93dfbdc-6cd3-47ef-eea0-d8ab00f665cc"
      },
      "execution_count": 42,
      "outputs": [
        {
          "output_type": "stream",
          "name": "stdout",
          "text": [
            "{1, 2, 3, 4, 6}\n"
          ]
        }
      ]
    }
  ]
}